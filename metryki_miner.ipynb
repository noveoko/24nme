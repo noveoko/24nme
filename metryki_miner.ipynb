{
  "nbformat": 4,
  "nbformat_minor": 0,
  "metadata": {
    "colab": {
      "provenance": [],
      "authorship_tag": "ABX9TyOrK9Nymrd1yCWZkuDasG0a",
      "include_colab_link": true
    },
    "kernelspec": {
      "name": "python3",
      "display_name": "Python 3"
    },
    "language_info": {
      "name": "python"
    }
  },
  "cells": [
    {
      "cell_type": "markdown",
      "metadata": {
        "id": "view-in-github",
        "colab_type": "text"
      },
      "source": [
        "<a href=\"https://colab.research.google.com/github/noveoko/24nme.github.io/blob/main/metryki_miner.ipynb\" target=\"_parent\"><img src=\"https://colab.research.google.com/assets/colab-badge.svg\" alt=\"Open In Colab\"/></a>"
      ]
    },
    {
      "cell_type": "code",
      "execution_count": 1,
      "metadata": {
        "id": "HGHqCn2rYQRa"
      },
      "outputs": [],
      "source": [
        "from pathlib import Path\n",
        "\n",
        "pth = Path(r'/content/data.html')"
      ]
    },
    {
      "cell_type": "code",
      "source": [
        "from bs4 import BeautifulSoup as bs\n",
        "\n",
        "html = None\n",
        "with open(pth, 'r',encoding='utf-8') as f:\n",
        "  html = f.read()\n",
        "\n",
        "soup = BeautifulSoup(html, \"html.parser\")\n",
        "\n",
        "events = {\"deaths\": [], \"births\": [], \"marriages\": [], \"lists\": []}\n",
        "\n",
        "table_titles = {\n",
        "    \"Zgony\": \"deaths\",\n",
        "    \"Urodzenia\": \"births\",\n",
        "    \"Śluby\": \"marriages\",\n",
        "    \"Spisy\": \"lists\",\n",
        "}\n",
        "\n",
        "for title, event_type in table_titles.items():\n",
        "    table = soup.find(\"h2\", text=lambda t: t and title in t).find_next(\"table\")\n",
        "    rows = table.find_all(\"tr\")\n",
        "    header = [th.get_text(strip=True) for th in rows.pop(0).find_all(\"th\")]\n",
        "\n",
        "    for row in rows:\n",
        "        event = {}\n",
        "        for idx, td in enumerate(row.find_all(\"td\")):\n",
        "          try:\n",
        "            event[header[idx]] = td.get_text(strip=True)\n",
        "          except Exception as ee:\n",
        "            continue\n",
        "        events[event_type].append(event)\n"
      ],
      "metadata": {
        "colab": {
          "base_uri": "https://localhost:8080/"
        },
        "id": "tVBKQZYeY2oe",
        "outputId": "8e3e950b-bca7-4dd5-df0b-b030b2fb9be8"
      },
      "execution_count": 5,
      "outputs": [
        {
          "output_type": "stream",
          "name": "stderr",
          "text": [
            "<ipython-input-5-5aa201f22975>:19: DeprecationWarning: The 'text' argument to find()-type methods is deprecated. Use 'string' instead.\n",
            "  table = soup.find(\"h2\", text=lambda t: t and title in t).find_next(\"table\")\n"
          ]
        }
      ]
    },
    {
      "cell_type": "code",
      "source": [
        "events.keys()"
      ],
      "metadata": {
        "colab": {
          "base_uri": "https://localhost:8080/"
        },
        "id": "4FY_vr2PY5tY",
        "outputId": "f7f39adb-ea39-49d9-d818-39b364181357"
      },
      "execution_count": 7,
      "outputs": [
        {
          "output_type": "execute_result",
          "data": {
            "text/plain": [
              "dict_keys(['deaths', 'births', 'marriages', 'lists'])"
            ]
          },
          "metadata": {},
          "execution_count": 7
        }
      ]
    },
    {
      "cell_type": "code",
      "source": [
        "events['lists'][0:1]"
      ],
      "metadata": {
        "colab": {
          "base_uri": "https://localhost:8080/"
        },
        "id": "uEfUcKxhZqGo",
        "outputId": "4c0bd866-6b45-41c1-87ba-1f288b3aa387"
      },
      "execution_count": 13,
      "outputs": [
        {
          "output_type": "execute_result",
          "data": {
            "text/plain": [
              "[{'Nr Gospodarstwa': '48',\n",
              "  'Nr Mężczyzny': '',\n",
              "  'Nr Kobiety': '7',\n",
              "  'Personalia': 'żona Cecylia z Martynoskich',\n",
              "  'Wiek Mężczyzny': '',\n",
              "  'Wiek Kobiety': '38',\n",
              "  'Parafia': 'Horbulów',\n",
              "  'Miejscowość': 'Dobryń',\n",
              "  'Rok': '1790',\n",
              "  'Archiwum': 'CDIAK',\n",
              "  'Spisane przez': 'DM',\n",
              "  'Sygnatura': '1044-1-1',\n",
              "  'Strona': '',\n",
              "  'Nr Skanu': '',\n",
              "  'Uwagi 2': ''}]"
            ]
          },
          "metadata": {},
          "execution_count": 13
        }
      ]
    },
    {
      "cell_type": "code",
      "source": [
        "import pandas as pd\n",
        "from fuzzywuzzy import fuzz\n",
        "\n",
        "# Your data\n",
        "data = {...}  # put your dictionary here\n",
        "\n",
        "# Convert dictionaries to pandas DataFrames\n",
        "deaths = pd.DataFrame(data['deaths'])\n",
        "births = pd.DataFrame(data['births'])\n",
        "marriages = pd.DataFrame(data['marriages'])\n",
        "lists = pd.DataFrame([data['lists']])  # 'lists' is a dict, not a list of dicts\n",
        "\n",
        "# Add 'EventType' column to distinguish between different events\n",
        "deaths['EventType'] = 'death'\n",
        "births['EventType'] = 'birth'\n",
        "marriages['EventType'] = 'marriage'\n",
        "lists['EventType'] = 'list'\n",
        "\n",
        "# Concatenate all DataFrames\n",
        "df = pd.concat([deaths, births, marriages, lists])\n",
        "\n",
        "# Create 'FullName' column\n",
        "df['FullName'] = df['Imię'] + ' ' + df['Nazwisko']\n",
        "\n",
        "# Initialize hashtable\n",
        "people_hash = {}\n",
        "\n",
        "# Populate hashtable\n",
        "for i, row in df.iterrows():\n",
        "    name = row['FullName']\n",
        "    if name not in people_hash:\n",
        "        people_hash[name] = [row.to_dict()]\n",
        "    else:\n",
        "        # Check if the same person is likely to appear in different events\n",
        "        for person in people_hash[name]:\n",
        "            if person['EventType'] != row['EventType']:\n",
        "                if person['EventType'] in ['birth', 'death'] and row['EventType'] in ['birth', 'death']:\n",
        "                    if abs(int(person['Rok']) - int(row['Rok'])) < 100:\n",
        "                        people_hash[name].append(row.to_dict())\n",
        "                else:\n",
        "                    # Use fuzzy matching for other events\n",
        "                    if fuzz.ratio(person['Miejscowość'], row['Miejscowość']) > 70:  # adjust the threshold as needed\n",
        "                        people_hash[name].append(row.to_dict())\n",
        "                        break\n",
        "        else:\n",
        "            people_hash[name] = [row.to_dict()]\n",
        "\n",
        "# Now 'people_hash' is a hashtable where keys are names and values are lists of events related to the person with this name\n"
      ],
      "metadata": {
        "id": "KPut9v76Zu-k"
      },
      "execution_count": null,
      "outputs": []
    }
  ]
}